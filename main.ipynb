{
 "cells": [
  {
   "cell_type": "code",
   "execution_count": 20,
   "metadata": {},
   "outputs": [],
   "source": [
    "#%pip install tensorflow\n",
    "#%pip install seaborn\n",
    "#%pip install sklearn"
   ]
  },
  {
   "cell_type": "code",
   "execution_count": 22,
   "metadata": {},
   "outputs": [],
   "source": [
    "import pandas as pd\n",
    "import numpy as np\n",
    "from sklearn import preprocessing\n",
    "from sklearn.model_selection import train_test_split\n",
    "from sklearn.neighbors import KNeighborsClassifier"
   ]
  },
  {
   "cell_type": "code",
   "execution_count": 4,
   "metadata": {},
   "outputs": [],
   "source": [
    "df = pd.read_csv('./data/diabetes_012_health_indicators_BRFSS2015.csv')"
   ]
  },
  {
   "cell_type": "markdown",
   "metadata": {},
   "source": [
    "PREPARAÇÃO DO DATASET EM TREINO E TESTE"
   ]
  },
  {
   "cell_type": "code",
   "execution_count": 32,
   "metadata": {},
   "outputs": [],
   "source": [
    "x_data = df.drop([\"Diabetes_012\"],axis=1)\n",
    "y_data = df[\"Diabetes_012\"]\n",
    "MinMaxScaler = preprocessing.MinMaxScaler()\n",
    "X_data_minmax = MinMaxScaler.fit_transform(x_data)\n",
    "data = pd.DataFrame(X_data_minmax,columns=x_data.columns)\n",
    "\n",
    "X_train, X_test, y_train, y_test = train_test_split(data, y_data,test_size=0.2, random_state = 1)"
   ]
  },
  {
   "cell_type": "markdown",
   "metadata": {},
   "source": [
    "APLICAÇÃO DO MODELO COM K-NEAREST-NEIGHBORS"
   ]
  },
  {
   "cell_type": "code",
   "execution_count": 17,
   "metadata": {},
   "outputs": [],
   "source": [
    "knn_clf=KNeighborsClassifier(n_neighbors=8)\n",
    "knn_clf.fit(X_train,y_train)\n",
    "ypred=knn_clf.predict(X_test)"
   ]
  },
  {
   "cell_type": "code",
   "execution_count": 18,
   "metadata": {},
   "outputs": [
    {
     "name": "stdout",
     "output_type": "stream",
     "text": [
      "Classification Report: \n",
      "              precision    recall  f1-score   support\n",
      "\n",
      "         0.0       0.86      0.97      0.91     42798\n",
      "         1.0       0.00      0.00      0.00       873\n",
      "         2.0       0.41      0.12      0.19      7065\n",
      "\n",
      "    accuracy                           0.84     50736\n",
      "   macro avg       0.42      0.37      0.37     50736\n",
      "weighted avg       0.78      0.84      0.79     50736\n",
      "\n",
      "Accuracy: 0.837038789025544\n"
     ]
    }
   ],
   "source": [
    "from sklearn.metrics import classification_report, accuracy_score\n",
    "\n",
    "result1 = classification_report(y_test, ypred)\n",
    "print(\"Classification Report: \")\n",
    "print (result1)\n",
    "result2 = accuracy_score(y_test,ypred)\n",
    "print(\"Accuracy:\",result2)"
   ]
  },
  {
   "cell_type": "markdown",
   "metadata": {},
   "source": [
    "APLICAÇÃO DO MODELO REDES NEURAIS"
   ]
  },
  {
   "cell_type": "code",
   "execution_count": 23,
   "metadata": {},
   "outputs": [],
   "source": [
    "import keras\n",
    "from keras.models import Sequential\n",
    "from keras.layers import Dense, Dropout, Activation\n",
    "from keras.optimizers import SGD"
   ]
  },
  {
   "cell_type": "code",
   "execution_count": 36,
   "metadata": {},
   "outputs": [
    {
     "name": "stdout",
     "output_type": "stream",
     "text": [
      "Model: \"sequential_11\"\n",
      "_________________________________________________________________\n",
      " Layer (type)                Output Shape              Param #   \n",
      "=================================================================\n",
      " dense_21 (Dense)            (None, 64)                1408      \n",
      "                                                                 \n",
      " dense_22 (Dense)            (None, 64)                4160      \n",
      "                                                                 \n",
      " dense_23 (Dense)            (None, 3)                 195       \n",
      "                                                                 \n",
      "=================================================================\n",
      "Total params: 5,763\n",
      "Trainable params: 5,763\n",
      "Non-trainable params: 0\n",
      "_________________________________________________________________\n",
      "Epoch 1/5\n",
      "6342/6342 [==============================] - 9s 1ms/step - loss: 0.4074 - accuracy: 0.8463 - val_loss: 0.3993 - val_accuracy: 0.8477\n",
      "Epoch 2/5\n",
      "6342/6342 [==============================] - 9s 1ms/step - loss: 0.3990 - accuracy: 0.8478 - val_loss: 0.4005 - val_accuracy: 0.8488\n",
      "Epoch 3/5\n",
      "6342/6342 [==============================] - 10s 2ms/step - loss: 0.3974 - accuracy: 0.8482 - val_loss: 0.3927 - val_accuracy: 0.8489\n",
      "Epoch 4/5\n",
      "6342/6342 [==============================] - 9s 1ms/step - loss: 0.3964 - accuracy: 0.8489 - val_loss: 0.3931 - val_accuracy: 0.8481\n",
      "Epoch 5/5\n",
      "6342/6342 [==============================] - 9s 1ms/step - loss: 0.3959 - accuracy: 0.8489 - val_loss: 0.3912 - val_accuracy: 0.8505\n"
     ]
    },
    {
     "data": {
      "text/plain": [
       "<keras.callbacks.History at 0x199ab204a00>"
      ]
     },
     "execution_count": 36,
     "metadata": {},
     "output_type": "execute_result"
    }
   ],
   "source": [
    "model = Sequential()\n",
    "model.add(Dense(64, activation=\"relu\", input_shape=(len(x_data.columns),)))\n",
    "model.add(Dense(64, activation='relu'))\n",
    "model.add(Dense(3, activation='softmax'))\n",
    "\n",
    "model.summary()\n",
    "\n",
    "model.compile(optimizer=\"adam\", loss=\"sparse_categorical_crossentropy\", metrics=[\"accuracy\"])\n",
    "model.fit(X_train, y_train, epochs=5, validation_data=(X_test, y_test))"
   ]
  }
 ],
 "metadata": {
  "interpreter": {
   "hash": "8148c0d3d64ea34ff2d8f2bf27cf07b523827818f358f963336f65c93325dd79"
  },
  "kernelspec": {
   "display_name": "Python 3.10.4 64-bit",
   "language": "python",
   "name": "python3"
  },
  "language_info": {
   "codemirror_mode": {
    "name": "ipython",
    "version": 3
   },
   "file_extension": ".py",
   "mimetype": "text/x-python",
   "name": "python",
   "nbconvert_exporter": "python",
   "pygments_lexer": "ipython3",
   "version": "3.10.4"
  },
  "orig_nbformat": 4
 },
 "nbformat": 4,
 "nbformat_minor": 2
}
