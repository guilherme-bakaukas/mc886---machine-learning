{
 "cells": [
  {
   "cell_type": "code",
   "execution_count": 20,
   "metadata": {},
   "outputs": [],
   "source": [
    "#%pip install tensorflow\n",
    "#%pip install seaborn\n",
    "#%pip install sklearn"
   ]
  },
  {
   "cell_type": "code",
   "execution_count": 4,
   "metadata": {},
   "outputs": [],
   "source": [
    "import pandas as pd\n",
    "import numpy as np\n",
    "from sklearn import preprocessing\n",
    "from sklearn.model_selection import train_test_split\n",
    "from sklearn.neighbors import KNeighborsClassifier\n",
    "from sklearn.metrics import classification_report, accuracy_score"
   ]
  },
  {
   "cell_type": "code",
   "execution_count": 2,
   "metadata": {},
   "outputs": [],
   "source": [
    "df = pd.read_csv('./data/diabetes_012_health_indicators_BRFSS2015.csv')"
   ]
  },
  {
   "cell_type": "markdown",
   "metadata": {},
   "source": [
    "PREPARAÇÃO DO DATASET EM TREINO E TESTE"
   ]
  },
  {
   "cell_type": "code",
   "execution_count": 3,
   "metadata": {},
   "outputs": [],
   "source": [
    "x_data = df.drop([\"Diabetes_012\"],axis=1)\n",
    "y_data = df[\"Diabetes_012\"]\n",
    "MinMaxScaler = preprocessing.MinMaxScaler()\n",
    "X_data_minmax = MinMaxScaler.fit_transform(x_data)\n",
    "data = pd.DataFrame(X_data_minmax,columns=x_data.columns)\n",
    "\n",
    "X_train, X_test, y_train, y_test = train_test_split(data, y_data,test_size=0.2, random_state = 1)"
   ]
  },
  {
   "cell_type": "markdown",
   "metadata": {},
   "source": [
    "APLICAÇÃO DO MODELO COM K-NEAREST-NEIGHBORS"
   ]
  },
  {
   "cell_type": "code",
   "execution_count": 17,
   "metadata": {},
   "outputs": [],
   "source": [
    "knn_clf=KNeighborsClassifier(n_neighbors=8)\n",
    "knn_clf.fit(X_train,y_train)\n",
    "ypred=knn_clf.predict(X_test)"
   ]
  },
  {
   "cell_type": "code",
   "execution_count": 18,
   "metadata": {},
   "outputs": [
    {
     "name": "stdout",
     "output_type": "stream",
     "text": [
      "Classification Report: \n",
      "              precision    recall  f1-score   support\n",
      "\n",
      "         0.0       0.86      0.97      0.91     42798\n",
      "         1.0       0.00      0.00      0.00       873\n",
      "         2.0       0.41      0.12      0.19      7065\n",
      "\n",
      "    accuracy                           0.84     50736\n",
      "   macro avg       0.42      0.37      0.37     50736\n",
      "weighted avg       0.78      0.84      0.79     50736\n",
      "\n",
      "Accuracy: 0.837038789025544\n"
     ]
    }
   ],
   "source": [
    "result1 = classification_report(y_test, ypred)\n",
    "print(\"Classification Report: \")\n",
    "print (result1)\n",
    "result2 = accuracy_score(y_test,ypred)\n",
    "print(\"Accuracy:\",result2)"
   ]
  },
  {
   "cell_type": "markdown",
   "metadata": {},
   "source": [
    "APLICAÇÃO DO MODELO REDES NEURAIS"
   ]
  },
  {
   "cell_type": "code",
   "execution_count": 5,
   "metadata": {},
   "outputs": [],
   "source": [
    "import keras\n",
    "from keras.models import Sequential\n",
    "from keras.layers import Dense, Dropout, Activation\n",
    "from keras.optimizers import SGD"
   ]
  },
  {
   "cell_type": "code",
   "execution_count": 10,
   "metadata": {},
   "outputs": [
    {
     "name": "stdout",
     "output_type": "stream",
     "text": [
      "Model: \"sequential_4\"\n",
      "_________________________________________________________________\n",
      " Layer (type)                Output Shape              Param #   \n",
      "=================================================================\n",
      " dense_10 (Dense)            (None, 100)               2200      \n",
      "                                                                 \n",
      " dense_11 (Dense)            (None, 100)               10100     \n",
      "                                                                 \n",
      " dense_12 (Dense)            (None, 3)                 303       \n",
      "                                                                 \n",
      "=================================================================\n",
      "Total params: 12,603\n",
      "Trainable params: 12,603\n",
      "Non-trainable params: 0\n",
      "_________________________________________________________________\n",
      "Epoch 1/5\n",
      "6342/6342 [==============================] - 41s 6ms/step - loss: 0.4116 - accuracy: 0.8450 - val_loss: 0.3976 - val_accuracy: 0.8460\n",
      "Epoch 2/5\n",
      "6342/6342 [==============================] - 40s 6ms/step - loss: 0.4023 - accuracy: 0.8460 - val_loss: 0.3987 - val_accuracy: 0.8469\n",
      "Epoch 3/5\n",
      "6342/6342 [==============================] - 39s 6ms/step - loss: 0.4010 - accuracy: 0.8466 - val_loss: 0.4069 - val_accuracy: 0.8403\n",
      "Epoch 4/5\n",
      "6342/6342 [==============================] - 37s 6ms/step - loss: 0.4000 - accuracy: 0.8464 - val_loss: 0.3992 - val_accuracy: 0.8471\n",
      "Epoch 5/5\n",
      "6342/6342 [==============================] - 37s 6ms/step - loss: 0.3994 - accuracy: 0.8471 - val_loss: 0.3946 - val_accuracy: 0.8475\n"
     ]
    },
    {
     "data": {
      "text/plain": [
       "<keras.callbacks.History at 0x14967f1d030>"
      ]
     },
     "execution_count": 10,
     "metadata": {},
     "output_type": "execute_result"
    }
   ],
   "source": [
    "model = Sequential()\n",
    "model.add(Dense(100, activation=\"relu\", input_shape=(len(x_data.columns),)))\n",
    "model.add(Dense(100, activation='relu'))\n",
    "model.add(Dense(3, activation='softmax'))\n",
    "\n",
    "model.summary()\n",
    "\n",
    "model.compile(optimizer=\"adam\", loss=\"sparse_categorical_crossentropy\", metrics=[\"accuracy\"])\n",
    "model.fit(X_train, y_train, epochs=5, validation_data=(X_test, y_test))"
   ]
  },
  {
   "cell_type": "code",
   "execution_count": 36,
   "metadata": {},
   "outputs": [
    {
     "name": "stdout",
     "output_type": "stream",
     "text": [
      "1586/1586 [==============================] - 7s 5ms/step\n",
      "              precision    recall  f1-score   support\n",
      "\n",
      "         0.0       0.85      0.99      0.92     42798\n",
      "         1.0       0.00      0.00      0.00       873\n",
      "         2.0       0.57      0.09      0.16      7065\n",
      "\n",
      "    accuracy                           0.85     50736\n",
      "   macro avg       0.47      0.36      0.36     50736\n",
      "weighted avg       0.80      0.85      0.80     50736\n",
      "\n"
     ]
    },
    {
     "ename": "AttributeError",
     "evalue": "'numpy.ndarray' object has no attribute 'values_count'",
     "output_type": "error",
     "traceback": [
      "\u001b[1;31m---------------------------------------------------------------------------\u001b[0m",
      "\u001b[1;31mAttributeError\u001b[0m                            Traceback (most recent call last)",
      "\u001b[1;32mC:\\Users\\012883~1\\AppData\\Local\\Temp/ipykernel_28860/888523937.py\u001b[0m in \u001b[0;36m<module>\u001b[1;34m\u001b[0m\n\u001b[0;32m      3\u001b[0m \u001b[0mprint\u001b[0m\u001b[1;33m(\u001b[0m\u001b[0mclassification_report\u001b[0m\u001b[1;33m(\u001b[0m\u001b[0my_test\u001b[0m\u001b[1;33m,\u001b[0m \u001b[0mpredicted_categories\u001b[0m\u001b[1;33m,\u001b[0m \u001b[0mzero_division\u001b[0m\u001b[1;33m=\u001b[0m\u001b[1;36m0\u001b[0m\u001b[1;33m)\u001b[0m\u001b[1;33m)\u001b[0m\u001b[1;33m\u001b[0m\u001b[1;33m\u001b[0m\u001b[0m\n\u001b[0;32m      4\u001b[0m \u001b[1;33m\u001b[0m\u001b[0m\n\u001b[1;32m----> 5\u001b[1;33m \u001b[0mpredicted_categories\u001b[0m\u001b[1;33m.\u001b[0m\u001b[0mvalues_count\u001b[0m\u001b[1;33m(\u001b[0m\u001b[1;33m)\u001b[0m\u001b[1;33m\u001b[0m\u001b[1;33m\u001b[0m\u001b[0m\n\u001b[0m",
      "\u001b[1;31mAttributeError\u001b[0m: 'numpy.ndarray' object has no attribute 'values_count'"
     ]
    }
   ],
   "source": [
    "y_pred = model.predict(X_test)"
   ]
  },
  {
   "cell_type": "code",
   "execution_count": 40,
   "metadata": {},
   "outputs": [
    {
     "name": "stdout",
     "output_type": "stream",
     "text": [
      "              precision    recall  f1-score   support\n",
      "\n",
      "         0.0       0.85      0.99      0.92     42798\n",
      "         1.0       0.00      0.00      0.00       873\n",
      "         2.0       0.57      0.09      0.16      7065\n",
      "\n",
      "    accuracy                           0.85     50736\n",
      "   macro avg       0.47      0.36      0.36     50736\n",
      "weighted avg       0.80      0.85      0.80     50736\n",
      "\n",
      "Class 0 predictions:  49588\n",
      "Class 1 predictions:  0\n",
      "Class 2 predictions:  1148\n"
     ]
    }
   ],
   "source": [
    "predicted_categories = np.argmax(y_pred, axis = 1)\n",
    "print(classification_report(y_test, predicted_categories, zero_division=0))\n",
    "\n",
    "print(\"Class 0 predictions: \", np.count_nonzero(predicted_categories == 0))\n",
    "print(\"Class 1 predictions: \", np.count_nonzero(predicted_categories == 1))\n",
    "print(\"Class 2 predictions: \", np.count_nonzero(predicted_categories == 2))\n"
   ]
  }
 ],
 "metadata": {
  "interpreter": {
   "hash": "8148c0d3d64ea34ff2d8f2bf27cf07b523827818f358f963336f65c93325dd79"
  },
  "kernelspec": {
   "display_name": "Python 3.10.4 64-bit",
   "language": "python",
   "name": "python3"
  },
  "language_info": {
   "codemirror_mode": {
    "name": "ipython",
    "version": 3
   },
   "file_extension": ".py",
   "mimetype": "text/x-python",
   "name": "python",
   "nbconvert_exporter": "python",
   "pygments_lexer": "ipython3",
   "version": "3.10.4"
  },
  "orig_nbformat": 4
 },
 "nbformat": 4,
 "nbformat_minor": 2
}
